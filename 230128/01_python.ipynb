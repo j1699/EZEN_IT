{
 "cells": [
  {
   "cell_type": "code",
   "execution_count": 1,
   "metadata": {},
   "outputs": [
    {
     "name": "stdout",
     "output_type": "stream",
     "text": [
      "10\n",
      "<class 'int'>\n",
      "test\n",
      "<class 'str'>\n"
     ]
    }
   ],
   "source": [
    "# 변수 선언\n",
    "a = 10\n",
    "b = \"test\"\n",
    "\n",
    "## 변수 출력\n",
    "print(a)\n",
    "print(type(a))\n",
    "\n",
    "print(b)\n",
    "print(type(b))"
   ]
  },
  {
   "cell_type": "code",
   "execution_count": 3,
   "metadata": {},
   "outputs": [
    {
     "name": "stdout",
     "output_type": "stream",
     "text": [
      "test2\n"
     ]
    }
   ],
   "source": [
    "a = \"test2\"\n",
    "print(a)"
   ]
  },
  {
   "cell_type": "code",
   "execution_count": 4,
   "metadata": {},
   "outputs": [
    {
     "name": "stdout",
     "output_type": "stream",
     "text": [
      "<class 'bool'>\n"
     ]
    }
   ],
   "source": [
    "# 불형 데이터\n",
    "# 참과 거짓의 형태\n",
    "a = True\n",
    "print(type(a))"
   ]
  },
  {
   "cell_type": "code",
   "execution_count": 5,
   "metadata": {},
   "outputs": [
    {
     "name": "stdout",
     "output_type": "stream",
     "text": [
      "True False True\n"
     ]
    }
   ],
   "source": [
    "b = (100 > 10)\n",
    "c = (100 < 10)\n",
    "d = (100 == 100)\n",
    "print(b, c, d)"
   ]
  },
  {
   "cell_type": "code",
   "execution_count": 6,
   "metadata": {},
   "outputs": [
    {
     "name": "stdout",
     "output_type": "stream",
     "text": [
      "10 4 21 2.3333333333333335 2 1 343\n"
     ]
    }
   ],
   "source": [
    "# 산술 연산자\n",
    "# 기본적인 사칙연산\n",
    "a = 7\n",
    "b = 3\n",
    "\n",
    "print(a+b, a-b, a*b, a/b, a//b, a%b, a**b)"
   ]
  },
  {
   "cell_type": "code",
   "execution_count": 7,
   "metadata": {},
   "outputs": [
    {
     "name": "stdout",
     "output_type": "stream",
     "text": [
      "13\n",
      "20\n"
     ]
    }
   ],
   "source": [
    "c = 2\n",
    "print(a+b*c)\n",
    "print((a+b)*c)"
   ]
  },
  {
   "cell_type": "code",
   "execution_count": 8,
   "metadata": {},
   "outputs": [
    {
     "name": "stdout",
     "output_type": "stream",
     "text": [
      "12\n"
     ]
    }
   ],
   "source": [
    "# 대입 연산자\n",
    "a += 5 # a = a + 5\n",
    "print(a)"
   ]
  },
  {
   "attachments": {},
   "cell_type": "markdown",
   "metadata": {},
   "source": [
    "### 조건문\n",
    " - if 문"
   ]
  },
  {
   "cell_type": "code",
   "execution_count": 10,
   "metadata": {},
   "outputs": [],
   "source": [
    "a = 11\n",
    "\n",
    "if a < 10:\n",
    "    print(\"a는 10보다 작다\")"
   ]
  },
  {
   "cell_type": "code",
   "execution_count": 11,
   "metadata": {},
   "outputs": [
    {
     "name": "stdout",
     "output_type": "stream",
     "text": [
      "a는 10보다 크거나 같다\n"
     ]
    }
   ],
   "source": [
    "# if ~ else\n",
    "a = 20\n",
    "\n",
    "if a <10:\n",
    "    print(\"a는 10보다 작다\")\n",
    "else:\n",
    "    print(\"a는 10보다 크거나 같다\")"
   ]
  },
  {
   "cell_type": "code",
   "execution_count": 13,
   "metadata": {},
   "outputs": [
    {
     "name": "stdout",
     "output_type": "stream",
     "text": [
      "88\n",
      "<class 'int'>\n",
      "B\n",
      "프로그램 종료\n"
     ]
    }
   ],
   "source": [
    "# if ~ elif ~ else문\n",
    "score = int(input(\"점수를 입력하세요 : \"))\n",
    "\n",
    "print(score)\n",
    "print(type(score))\n",
    "\n",
    "if score >= 90:\n",
    "    print(\"A\")\n",
    "elif score >= 80:\n",
    "    print(\"B\")\n",
    "elif score >= 70:\n",
    "    print(\"C\")\n",
    "elif score >= 60:\n",
    "    print(\"D\")\n",
    "else :\n",
    "    print(\"F\")\n",
    "\n",
    "print(\"프로그램 종료\")"
   ]
  },
  {
   "cell_type": "code",
   "execution_count": 14,
   "metadata": {},
   "outputs": [
    {
     "name": "stdout",
     "output_type": "stream",
     "text": [
      "0 번재 반복\n",
      "1 번재 반복\n",
      "2 번재 반복\n",
      "3 번재 반복\n",
      "4 번재 반복\n",
      "5 번재 반복\n",
      "6 번재 반복\n",
      "7 번재 반복\n",
      "8 번재 반복\n",
      "9 번재 반복\n"
     ]
    }
   ],
   "source": [
    "# 반복문\n",
    "# for문\n",
    "for i in range(0,10,1):\n",
    "    print(\"%d 번재 반복\" %i)"
   ]
  },
  {
   "cell_type": "code",
   "execution_count": 15,
   "metadata": {},
   "outputs": [
    {
     "name": "stdout",
     "output_type": "stream",
     "text": [
      "0 번재 반복\n",
      "1 번재 반복\n",
      "2 번재 반복\n",
      "3 번재 반복\n",
      "4 번재 반복\n",
      "5 번재 반복\n",
      "6 번재 반복\n",
      "7 번재 반복\n",
      "8 번재 반복\n",
      "9 번재 반복\n"
     ]
    }
   ],
   "source": [
    "for i in range(10):\n",
    "    print(\"%d 번재 반복\" %i)"
   ]
  },
  {
   "cell_type": "code",
   "execution_count": 16,
   "metadata": {},
   "outputs": [
    {
     "name": "stdout",
     "output_type": "stream",
     "text": [
      "55\n"
     ]
    }
   ],
   "source": [
    "# 1부터 10까지의 합계\n",
    "# for문\n",
    "\n",
    "# 합계 변수 생성\n",
    "sum = 0\n",
    "\n",
    "for a in range(1, 11, 1):\n",
    "    sum += a # sum = sum + a\n",
    "\n",
    "print(sum)"
   ]
  },
  {
   "cell_type": "code",
   "execution_count": 19,
   "metadata": {},
   "outputs": [
    {
     "name": "stdout",
     "output_type": "stream",
     "text": [
      "2단\n",
      "2 X 1 = 2\n",
      "2 X 2 = 4\n",
      "2 X 3 = 6\n",
      "2 X 4 = 8\n",
      "2 X 5 = 10\n",
      "2 X 6 = 12\n",
      "2 X 7 = 14\n",
      "2 X 8 = 16\n",
      "2 X 9 = 18\n",
      "3단\n",
      "3 X 1 = 3\n",
      "3 X 2 = 6\n",
      "3 X 3 = 9\n",
      "3 X 4 = 12\n",
      "3 X 5 = 15\n",
      "3 X 6 = 18\n",
      "3 X 7 = 21\n",
      "3 X 8 = 24\n",
      "3 X 9 = 27\n",
      "4단\n",
      "4 X 1 = 4\n",
      "4 X 2 = 8\n",
      "4 X 3 = 12\n",
      "4 X 4 = 16\n",
      "4 X 5 = 20\n",
      "4 X 6 = 24\n",
      "4 X 7 = 28\n",
      "4 X 8 = 32\n",
      "4 X 9 = 36\n",
      "5단\n",
      "5 X 1 = 5\n",
      "5 X 2 = 10\n",
      "5 X 3 = 15\n",
      "5 X 4 = 20\n",
      "5 X 5 = 25\n",
      "5 X 6 = 30\n",
      "5 X 7 = 35\n",
      "5 X 8 = 40\n",
      "5 X 9 = 45\n",
      "6단\n",
      "6 X 1 = 6\n",
      "6 X 2 = 12\n",
      "6 X 3 = 18\n",
      "6 X 4 = 24\n",
      "6 X 5 = 30\n",
      "6 X 6 = 36\n",
      "6 X 7 = 42\n",
      "6 X 8 = 48\n",
      "6 X 9 = 54\n",
      "7단\n",
      "7 X 1 = 7\n",
      "7 X 2 = 14\n",
      "7 X 3 = 21\n",
      "7 X 4 = 28\n",
      "7 X 5 = 35\n",
      "7 X 6 = 42\n",
      "7 X 7 = 49\n",
      "7 X 8 = 56\n",
      "7 X 9 = 63\n",
      "8단\n",
      "8 X 1 = 8\n",
      "8 X 2 = 16\n",
      "8 X 3 = 24\n",
      "8 X 4 = 32\n",
      "8 X 5 = 40\n",
      "8 X 6 = 48\n",
      "8 X 7 = 56\n",
      "8 X 8 = 64\n",
      "8 X 9 = 72\n",
      "9단\n",
      "9 X 1 = 9\n",
      "9 X 2 = 18\n",
      "9 X 3 = 27\n",
      "9 X 4 = 36\n",
      "9 X 5 = 45\n",
      "9 X 6 = 54\n",
      "9 X 7 = 63\n",
      "9 X 8 = 72\n",
      "9 X 9 = 81\n"
     ]
    }
   ],
   "source": [
    "# 다중 for문\n",
    "# 구구단\n",
    "\n",
    "for i in range(2, 10, 1):\n",
    "    print(\"%d단\"%i) # print(i+\"단\")\n",
    "    for j in range(1, 10, 1):\n",
    "        print(\"%d X %d = %d\"%(i, j, i*j))"
   ]
  },
  {
   "cell_type": "code",
   "execution_count": 22,
   "metadata": {},
   "outputs": [
    {
     "name": "stdout",
     "output_type": "stream",
     "text": [
      "2550\n",
      "2550\n"
     ]
    }
   ],
   "source": [
    "# for문\n",
    "# 1부터 100까지의 숫자중에 짝수의 합계\n",
    "# hint : 1부터 100까지 반복\n",
    "# if 조건식을 사용해서 짝수인 경우에만 +\n",
    "sum = 0\n",
    "\n",
    "for i in range(0,101,1):\n",
    "    if i % 2 == 0:\n",
    "        sum += i\n",
    "\n",
    "print(sum)\n",
    "\n",
    "sum = 0\n",
    "for i in range(2,101,2):\n",
    "    sum += i\n",
    "print(sum)"
   ]
  },
  {
   "cell_type": "code",
   "execution_count": 24,
   "metadata": {},
   "outputs": [
    {
     "name": "stdout",
     "output_type": "stream",
     "text": [
      "1, 4의 값을 가지는 주사위\n",
      "2, 3의 값을 가지는 주사위\n",
      "3, 2의 값을 가지는 주사위\n",
      "4, 1의 값을 가지는 주사위\n"
     ]
    }
   ],
   "source": [
    "# 다중 for문\n",
    "# 2개의 주사위를 굴려서 두 주사위의 합이 5가 되는 주사위의 값\n",
    "\n",
    "for i in range(1,7,1):\n",
    "    for j in range(1,7,1):\n",
    "        if i + j == 5:\n",
    "            print(\"%d, %d의 값을 가지는 주사위\"%(i, j))"
   ]
  },
  {
   "cell_type": "code",
   "execution_count": 25,
   "metadata": {},
   "outputs": [
    {
     "name": "stdout",
     "output_type": "stream",
     "text": [
      "0\n",
      "1\n",
      "2\n",
      "3\n",
      "4\n",
      "5\n",
      "6\n",
      "7\n",
      "8\n",
      "9\n"
     ]
    }
   ],
   "source": [
    "# while문\n",
    "\n",
    "# 초기값 지정\n",
    "i = 0\n",
    "\n",
    "# while문 시작\n",
    "while i < 10:\n",
    "    print(i)\n",
    "    i += 1"
   ]
  },
  {
   "cell_type": "code",
   "execution_count": 27,
   "metadata": {},
   "outputs": [
    {
     "name": "stdout",
     "output_type": "stream",
     "text": [
      "1 번째 반복\n",
      "2 번째 반복\n",
      "3 번째 반복\n",
      "4 번째 반복\n",
      "5 번째 반복\n"
     ]
    }
   ],
   "source": [
    "# break문\n",
    "for i in range(1,101,1):\n",
    "    print(\"%d 번째 반복\"%i)\n",
    "    if i == 5:\n",
    "        break"
   ]
  },
  {
   "cell_type": "code",
   "execution_count": 28,
   "metadata": {},
   "outputs": [
    {
     "name": "stdout",
     "output_type": "stream",
     "text": [
      "합계가 500 이상이 되는 범위의 숫자는 32 이고 합계는 528 이다.\n"
     ]
    }
   ],
   "source": [
    "# 1부터 100까지 합계를 구하는 중 합게가 500이 넘어가는 숫자와 합계의 값\n",
    "\n",
    "sum = 0\n",
    "i = 0\n",
    "\n",
    "for i in range(1, 101, 1):\n",
    "    sum += i\n",
    "    if sum >= 500:\n",
    "        break\n",
    "print(\"합계가 500 이상이 되는 범위의 숫자는\", i, \"이고 합계는\", sum, \"이다.\")"
   ]
  },
  {
   "cell_type": "code",
   "execution_count": 30,
   "metadata": {},
   "outputs": [
    {
     "name": "stdout",
     "output_type": "stream",
     "text": [
      "합계가 500 이상이 되는 범위의 숫자는 32 이고 합계는 528 이다.\n"
     ]
    }
   ],
   "source": [
    "# while문 문제\n",
    "sum = 0\n",
    "i = 0\n",
    "\n",
    "while sum < 500:\n",
    "    i += 1\n",
    "    sum += i\n",
    "print(\"합계가 500 이상이 되는 범위의 숫자는\", i, \"이고 합계는\", sum, \"이다.\")"
   ]
  },
  {
   "cell_type": "code",
   "execution_count": 35,
   "metadata": {},
   "outputs": [
    {
     "name": "stdout",
     "output_type": "stream",
     "text": [
      "합계가 500 이상이 되는 범위의 숫자는 32 이고 합계는 528 이다.\n"
     ]
    }
   ],
   "source": [
    "# 풀이\n",
    "sum = 0\n",
    "i = 0\n",
    "\n",
    "while i <= 100:\n",
    "    sum +=i\n",
    "    if sum >= 500:\n",
    "        break\n",
    "    i += 1\n",
    "\n",
    "print(\"합계가 500 이상이 되는 범위의 숫자는\", i, \"이고 합계는\", sum, \"이다.\")"
   ]
  },
  {
   "cell_type": "code",
   "execution_count": 36,
   "metadata": {},
   "outputs": [
    {
     "name": "stdout",
     "output_type": "stream",
     "text": [
      "4 번째 반복\n",
      "5 번째 반복\n",
      "6 번째 반복\n",
      "7 번째 반복\n",
      "8 번째 반복\n",
      "9 번째 반복\n"
     ]
    }
   ],
   "source": [
    "# continue문\n",
    "for i in range(1, 10, 1):\n",
    "    if i <= 3:\n",
    "        continue\n",
    "    print(\"%d 번째 반복\"%i)"
   ]
  },
  {
   "cell_type": "code",
   "execution_count": 37,
   "metadata": {},
   "outputs": [
    {
     "name": "stdout",
     "output_type": "stream",
     "text": [
      "2550\n"
     ]
    }
   ],
   "source": [
    "# 1부터 100까지 짝수의 합계\n",
    "sum = 0\n",
    "\n",
    "for i in range(1, 101, 1):\n",
    "    if i % 2 ==1:\n",
    "        continue\n",
    "    sum += i\n",
    "\n",
    "print(sum)"
   ]
  },
  {
   "attachments": {},
   "cell_type": "markdown",
   "metadata": {},
   "source": [
    "## 튜플"
   ]
  },
  {
   "cell_type": "code",
   "execution_count": 46,
   "metadata": {},
   "outputs": [
    {
     "name": "stdout",
     "output_type": "stream",
     "text": [
      "(1, 'Hello')\n",
      "(3, 3.14)\n",
      "(1, 'Hello', 3, 3.14)\n",
      "(1, 'Hello', 1, 'Hello', 1, 'Hello')\n",
      "Hello\n"
     ]
    }
   ],
   "source": [
    "# 튜플\n",
    "a = (1, \"Hello\")\n",
    "b = (3, 3.14)\n",
    "c = a + b\n",
    "d = a * 3\n",
    "e = a[1]\n",
    "\n",
    "print(a)\n",
    "print(b)\n",
    "print(c)\n",
    "print(d)\n",
    "print(e)"
   ]
  },
  {
   "cell_type": "code",
   "execution_count": 47,
   "metadata": {},
   "outputs": [
    {
     "name": "stdout",
     "output_type": "stream",
     "text": [
      "1\n"
     ]
    }
   ],
   "source": [
    "# 숫자 1만 출력하고 싶으면?\n",
    "print(a[0])"
   ]
  },
  {
   "cell_type": "code",
   "execution_count": 49,
   "metadata": {},
   "outputs": [
    {
     "name": "stdout",
     "output_type": "stream",
     "text": [
      "(20, 30)\n",
      "(30, 40)\n"
     ]
    }
   ],
   "source": [
    "a = (10, 20, 30, 40)\n",
    "\n",
    "# 20과 30을 출력하고 싶으면?\n",
    "\n",
    "print(a[1:3])\n",
    "\n",
    "# 30과 40을 출력하고 싶으면?\n",
    "\n",
    "print(a[2:])"
   ]
  },
  {
   "attachments": {},
   "cell_type": "markdown",
   "metadata": {},
   "source": [
    "### List\n",
    "내부함수\n",
    "- append: 가장 뒤 항목 추가\n",
    "- pop: 맨 뒤 항목 삭제\n",
    "- sort: 오름차순 정렬\n",
    "- reverse: 역순으로 정렬\n",
    "- index: 지정한 값으로 위치 변경\n",
    "- remove: 지정한 값 삭제\n",
    "- extend: 리스트 뒤에 새로운 리스트 추가"
   ]
  },
  {
   "cell_type": "code",
   "execution_count": 54,
   "metadata": {},
   "outputs": [
    {
     "name": "stdout",
     "output_type": "stream",
     "text": [
      "[5, 10, 20, 50]\n",
      "[40, 30, 20, 10]\n",
      "[5, 10, 20, 50, 22]\n"
     ]
    }
   ],
   "source": [
    "# list 형태 데이터\n",
    "a = [20, 10, 50, 5]\n",
    "b = [10, 20, 30, 40]\n",
    "\n",
    "# sort() -> 오름차순 정렬로 변경\n",
    "a.sort() # list a를 정렬\n",
    "print(a)\n",
    "\n",
    "# reverse() -> 역순으로 정렬을 변경\n",
    "b.reverse()\n",
    "print(b)\n",
    "\n",
    "# append() -> 리스트의 마지막에 항목 추가\n",
    "a.append(22)\n",
    "print(a)"
   ]
  },
  {
   "cell_type": "code",
   "execution_count": 55,
   "metadata": {},
   "outputs": [
    {
     "name": "stdout",
     "output_type": "stream",
     "text": [
      "[]\n",
      "[10]\n"
     ]
    }
   ],
   "source": [
    "# list의 특징\n",
    "a = [] # 항목이 비어있는 리스트를 생성할 수 있음\n",
    "print(a)\n",
    "a.append(10)\n",
    "print(a)"
   ]
  },
  {
   "cell_type": "code",
   "execution_count": 65,
   "metadata": {},
   "outputs": [
    {
     "name": "stdout",
     "output_type": "stream",
     "text": [
      "[3, 6, 9, 12, 15, 18, 21, 24, 27, 30, 33, 36, 39, 42, 45, 48, 51, 54, 57, 60, 63, 66, 69]\n",
      "828\n"
     ]
    }
   ],
   "source": [
    "# 3의 배수\n",
    "a = []\n",
    "\n",
    "for i in range(1,71,1):\n",
    "    if i % 3 == 0:\n",
    "        a.append(i)\n",
    "\n",
    "print(a)\n",
    "\n",
    "sum = 0\n",
    "for i in a:\n",
    "    sum += i\n",
    "\n",
    "print(sum)"
   ]
  },
  {
   "attachments": {},
   "cell_type": "markdown",
   "metadata": {},
   "source": [
    "## Dictionary\n",
    "key-value"
   ]
  },
  {
   "cell_type": "code",
   "execution_count": 68,
   "metadata": {},
   "outputs": [
    {
     "name": "stdout",
     "output_type": "stream",
     "text": [
      "test\n"
     ]
    }
   ],
   "source": [
    "# 사전형 데이터\n",
    "# {key1 : value1, key2 : value2, ...}\n",
    "dict = {\n",
    "    \"name\" : \"test\",\n",
    "    \"age\" : 20,\n",
    "    \"phone\" : \"01012345678\"\n",
    "}\n",
    "\n",
    "print(dict[\"name\"])"
   ]
  },
  {
   "cell_type": "code",
   "execution_count": 69,
   "metadata": {},
   "outputs": [
    {
     "name": "stdout",
     "output_type": "stream",
     "text": [
      "{'name': 'test', 'age': 20, 'phone': '01012345678', 'area': 'seoul'}\n"
     ]
    }
   ],
   "source": [
    "# 새로운 key : value 를 대입\n",
    "dict[\"area\"] = \"seoul\"\n",
    "\n",
    "print(dict)"
   ]
  },
  {
   "cell_type": "code",
   "execution_count": 71,
   "metadata": {},
   "outputs": [
    {
     "name": "stdout",
     "output_type": "stream",
     "text": [
      "test1\n"
     ]
    }
   ],
   "source": [
    "# Database에서 데이터를 받아올 때 데이터의 형태\n",
    "# [{}, {}, {}]\n",
    "test_data = [\n",
    "    {\n",
    "        \"name\" : \"test1\",\n",
    "        \"age\" : 20\n",
    "    },\n",
    "    {\n",
    "        \"name\" : \"test2\",\n",
    "        \"age\" : 30\n",
    "    },\n",
    "    {\n",
    "        \"name\" : \"test3\",\n",
    "        \"age\" : 40\n",
    "    }\n",
    "]\n",
    "\n",
    "print(test_data[0][\"name\"])"
   ]
  },
  {
   "cell_type": "code",
   "execution_count": 74,
   "metadata": {},
   "outputs": [
    {
     "name": "stdout",
     "output_type": "stream",
     "text": [
      "['test1', 'test2', 'test3']\n"
     ]
    }
   ],
   "source": [
    "# test_data에서 name의 값들만 리스트의 형대로 출력\n",
    "name_list = []\n",
    "\n",
    "for dict in test_data:\n",
    "    name_list.append(dict[\"name\"])\n",
    "\n",
    "print(name_list)"
   ]
  },
  {
   "cell_type": "code",
   "execution_count": 78,
   "metadata": {},
   "outputs": [
    {
     "name": "stdout",
     "output_type": "stream",
     "text": [
      "['test1', 'test2', 'test3']\n"
     ]
    }
   ],
   "source": [
    "# 다른 예시\n",
    "name_list = []\n",
    "\n",
    "for i in range(0, 3, 1): # -> for i in range(0, len(test_data), 1): -> for i in range(len(test_data)):\n",
    "    name_list.append(test_data[i][\"name\"])\n",
    "\n",
    "print(name_list)"
   ]
  },
  {
   "attachments": {},
   "cell_type": "markdown",
   "metadata": {},
   "source": [
    "## 문자열 함수\n",
    "- upper(): 문자를 모두 대문자로 변환\n",
    "- lower(): 문자를 모두 소문자로 변환\n",
    "- swapcase(): 대문자를 소문자로, 소문자를 대문자로 변환\n",
    "- title(): 문자의 첫번째 글자만 대문자로 변환\n",
    "- count(): 문자열의 개수 출력\n",
    "- find(): 문자열 앞부터 찾는 문자가 몇번째에 존재하는지 검색\n",
    "- index(): find와 같이 위치를 출력하지만 찾는 단어가 없을 시 에러 발생\n",
    "- lstrip(): 문자열 왼쪽의 공백을 지운다\n",
    "- rstrip(): 문자열 오른쪽의 공백을 지운다\n",
    "- strip(): 문자열 왼쪽/오른쪽의 공백을 지운다\n",
    "- replace(): 문자열 안의 특정한 값을 다른 값으로 치환\n",
    "- split(): 문자열을 괄호 안에 값으로 구분하여 나누어준다.(괄호 안이 값을 넣지 않으면 - 공백을 기준으로 함)\n"
   ]
  },
  {
   "cell_type": "code",
   "execution_count": 79,
   "metadata": {},
   "outputs": [
    {
     "name": "stdout",
     "output_type": "stream",
     "text": [
      "HELLO WORLD\n",
      "hello world\n"
     ]
    }
   ],
   "source": [
    "# 문자열 내장 함수\n",
    "# 대문자, 소문자\n",
    "text = \"Hello World\"\n",
    "print(text.upper())\n",
    "print(text.lower())"
   ]
  },
  {
   "cell_type": "code",
   "execution_count": 84,
   "metadata": {},
   "outputs": [
    {
     "name": "stdout",
     "output_type": "stream",
     "text": [
      "   Hello world   \n",
      "Hello world   \n",
      "   Hello world\n",
      "Hello world\n"
     ]
    }
   ],
   "source": [
    "text = \"   Hello world   \"\n",
    "print(text)\n",
    "print(text.lstrip())\n",
    "print(text.rstrip())\n",
    "print(text.strip())"
   ]
  },
  {
   "cell_type": "code",
   "execution_count": 82,
   "metadata": {},
   "outputs": [
    {
     "data": {
      "text/plain": [
       "'Helloworld'"
      ]
     },
     "execution_count": 82,
     "metadata": {},
     "output_type": "execute_result"
    }
   ],
   "source": [
    "# replace()\n",
    "# 선택한 문자열을 변경\n",
    "# 공백 제거도 가능\n",
    "text.replace(\" \",\"\")"
   ]
  },
  {
   "cell_type": "code",
   "execution_count": 85,
   "metadata": {},
   "outputs": [
    {
     "data": {
      "text/plain": [
       "'   Hi world   '"
      ]
     },
     "execution_count": 85,
     "metadata": {},
     "output_type": "execute_result"
    }
   ],
   "source": [
    "text.replace(\"Hello\", \"Hi\")"
   ]
  },
  {
   "cell_type": "code",
   "execution_count": 86,
   "metadata": {},
   "outputs": [
    {
     "name": "stdout",
     "output_type": "stream",
     "text": [
      "a, b, c, d, e\n"
     ]
    }
   ],
   "source": [
    "# split()\n",
    "# 기준이 되는 문자열이나 , . / 와 같은 특수문자열을 기준으로 문자열을 나눠주는 역할\n",
    "a = \"a, b, c, d, e\"\n",
    "print(a)"
   ]
  },
  {
   "cell_type": "code",
   "execution_count": 87,
   "metadata": {},
   "outputs": [
    {
     "data": {
      "text/plain": [
       "['a', ' b', ' c', ' d', ' e']"
      ]
     },
     "execution_count": 87,
     "metadata": {},
     "output_type": "execute_result"
    }
   ],
   "source": [
    "a.split(\",\")"
   ]
  },
  {
   "attachments": {},
   "cell_type": "markdown",
   "metadata": {},
   "source": [
    "## 함수\n",
    "\n",
    "def 함수명(매개변수):\n",
    "    실행할 코드 1\n",
    "    실행할 코드 2\n",
    "    실행할 코드 3\n",
    "    return (출력 값)\n",
    "\n",
    "함수명(인자) -> 출력 값"
   ]
  },
  {
   "cell_type": "code",
   "execution_count": 94,
   "metadata": {},
   "outputs": [],
   "source": [
    "# 매개변수가 없는 함수의 예시\n",
    "def func_1():\n",
    "    return \"Hello world\""
   ]
  },
  {
   "cell_type": "code",
   "execution_count": 95,
   "metadata": {},
   "outputs": [
    {
     "name": "stdout",
     "output_type": "stream",
     "text": [
      "Hello world\n",
      "Hello world\n",
      "Hello world\n"
     ]
    }
   ],
   "source": [
    "print(func_1())\n",
    "print(func_1())\n",
    "print(func_1())"
   ]
  },
  {
   "cell_type": "code",
   "execution_count": 100,
   "metadata": {},
   "outputs": [],
   "source": [
    "# 매개변수가 존재하는 함수의 예시\n",
    "def func_2(a, b):\n",
    "    c = a + b\n",
    "    return c"
   ]
  },
  {
   "cell_type": "code",
   "execution_count": 103,
   "metadata": {},
   "outputs": [
    {
     "name": "stdout",
     "output_type": "stream",
     "text": [
      "8\n",
      "4\n",
      "14\n"
     ]
    }
   ],
   "source": [
    "print(func_2(5, 3))\n",
    "print(func_2(1, 3))\n",
    "print(func_2(10, 4))"
   ]
  },
  {
   "cell_type": "code",
   "execution_count": 104,
   "metadata": {},
   "outputs": [
    {
     "name": "stdout",
     "output_type": "stream",
     "text": [
      "6\n",
      "6\n"
     ]
    }
   ],
   "source": [
    "# 매개변수에 기본값을 정의\n",
    "def func_3(x, y = 3):   # def func_4(x = 3, y): 기본값은 앞에 존재할 수 없다\n",
    "    result = x + y\n",
    "    return result\n",
    "\n",
    "print(func_3(5, 1))\n",
    "print(func_3(3))"
   ]
  },
  {
   "cell_type": "code",
   "execution_count": 106,
   "metadata": {},
   "outputs": [
    {
     "name": "stdout",
     "output_type": "stream",
     "text": [
      "25\n",
      "32\n"
     ]
    }
   ],
   "source": [
    "def func_4(x, y):\n",
    "    result = x ** y\n",
    "    return result\n",
    "\n",
    "print(func_4(5, 2))\n",
    "print(func_4(y=5, x=2))"
   ]
  },
  {
   "attachments": {},
   "cell_type": "markdown",
   "metadata": {},
   "source": [
    "1. 함수를 하나 생성 매개변수 2개(x, y)\n",
    "2. 함수가 하는 행동(a부터 b까지의 합을 리턴) - for/while문\n",
    "3. x보다 y가 작은 경우에는 x부터 y까지의 합, 반대인 경우에는 y부터 x까지의 합"
   ]
  },
  {
   "cell_type": "code",
   "execution_count": 110,
   "metadata": {},
   "outputs": [
    {
     "name": "stdout",
     "output_type": "stream",
     "text": [
      "55\n"
     ]
    }
   ],
   "source": [
    "def func_5(x, y):\n",
    "    sum = 0\n",
    "    if x < y:\n",
    "        for i in range(x, y+1, 1):\n",
    "            sum += i\n",
    "        return sum\n",
    "    else:\n",
    "        for i in range(y, x+1, 1):\n",
    "            sum += i\n",
    "        return sum\n",
    "\n",
    "print(func_5(10,1))"
   ]
  },
  {
   "cell_type": "code",
   "execution_count": 111,
   "metadata": {},
   "outputs": [
    {
     "name": "stdout",
     "output_type": "stream",
     "text": [
      "55\n"
     ]
    }
   ],
   "source": [
    "def func_6(x, y):\n",
    "    sum = 0\n",
    "    while x <= y:\n",
    "        sum += x\n",
    "        x += 1\n",
    "    return sum\n",
    "\n",
    "print(func_6(1, 10))"
   ]
  },
  {
   "cell_type": "code",
   "execution_count": 1,
   "metadata": {},
   "outputs": [
    {
     "name": "stdout",
     "output_type": "stream",
     "text": [
      "55\n",
      "55\n"
     ]
    }
   ],
   "source": [
    "def func_7(x, y):\n",
    "    sum = 0\n",
    "    for i in range(min(x, y), max(x, y)+1, 1):\n",
    "        sum += i\n",
    "    return sum\n",
    "\n",
    "print(func_7(1,10))\n",
    "print(func_7(10,1))"
   ]
  },
  {
   "attachments": {},
   "cell_type": "markdown",
   "metadata": {},
   "source": [
    "1. 함수 생성(매개변수 3개 x, y, z)\n",
    "2. z의 값이 \"합\" x+y 리턴\n",
    "3. z의 값이 \"차\" x-y 리턴\n",
    "4. z의 값이 둘 다 아니면 \"연산식이 잘못되었습니다\" 리턴"
   ]
  },
  {
   "cell_type": "code",
   "execution_count": 11,
   "metadata": {},
   "outputs": [
    {
     "name": "stdout",
     "output_type": "stream",
     "text": [
      "연산식이 잘못되었습니다\n"
     ]
    }
   ],
   "source": [
    "def func_8(x, y, z):\n",
    "    if z == \"합\":\n",
    "        return x + y\n",
    "    if z == \"차\":\n",
    "        return x - y\n",
    "    return \"연산식이 잘못되었습니다\"\n",
    "\n",
    "print(func_8(7, 3, \".\"))"
   ]
  },
  {
   "cell_type": "code",
   "execution_count": 13,
   "metadata": {},
   "outputs": [
    {
     "name": "stdout",
     "output_type": "stream",
     "text": [
      "10\n"
     ]
    }
   ],
   "source": [
    "def func_9(x, y, z):\n",
    "    if z == \"합\":\n",
    "        result = x + y\n",
    "    elif z == \"차\":\n",
    "        result = x - y\n",
    "    else:\n",
    "        result = \"연산식이 잘못되었습니다\"\n",
    "    return result\n",
    "print(func_9(7, 3, \"합\"))"
   ]
  },
  {
   "cell_type": "code",
   "execution_count": 14,
   "metadata": {},
   "outputs": [
    {
     "name": "stdout",
     "output_type": "stream",
     "text": [
      "[1, 4, 9, 16]\n"
     ]
    }
   ],
   "source": [
    "def func_10(x):\n",
    "    result = x ** 2\n",
    "    return result\n",
    "\n",
    "l = [1, 2, 3, 4]\n",
    "result = []\n",
    "\n",
    "for i in l:\n",
    "    result.append(func_10(i))\n",
    "print(result)"
   ]
  },
  {
   "cell_type": "code",
   "execution_count": 15,
   "metadata": {},
   "outputs": [
    {
     "name": "stdout",
     "output_type": "stream",
     "text": [
      "[1, 4, 9, 16]\n"
     ]
    }
   ],
   "source": [
    "# map 함수\n",
    "result_2 = list(map(func_10, l))\n",
    "print(result)"
   ]
  },
  {
   "cell_type": "code",
   "execution_count": 16,
   "metadata": {},
   "outputs": [
    {
     "name": "stdout",
     "output_type": "stream",
     "text": [
      "16\n"
     ]
    }
   ],
   "source": [
    "# 람다 함수\n",
    "lamb = lambda x: x**2\n",
    "print(lamb(4))"
   ]
  },
  {
   "cell_type": "code",
   "execution_count": 17,
   "metadata": {},
   "outputs": [
    {
     "data": {
      "text/plain": [
       "[1, 4, 9, 16]"
      ]
     },
     "execution_count": 17,
     "metadata": {},
     "output_type": "execute_result"
    }
   ],
   "source": [
    "list(map(lamb,l))"
   ]
  }
 ],
 "metadata": {
  "kernelspec": {
   "display_name": "Python 3",
   "language": "python",
   "name": "python3"
  },
  "language_info": {
   "codemirror_mode": {
    "name": "ipython",
    "version": 3
   },
   "file_extension": ".py",
   "mimetype": "text/x-python",
   "name": "python",
   "nbconvert_exporter": "python",
   "pygments_lexer": "ipython3",
   "version": "3.11.1"
  },
  "orig_nbformat": 4,
  "vscode": {
   "interpreter": {
    "hash": "c261aea317cc0286b3b3261fbba9abdec21eaa57589985bb7a274bf54d6cc0a7"
   }
  }
 },
 "nbformat": 4,
 "nbformat_minor": 2
}
