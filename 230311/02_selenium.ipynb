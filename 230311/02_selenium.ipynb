{
 "cells": [
  {
   "cell_type": "code",
   "execution_count": null,
   "metadata": {},
   "outputs": [],
   "source": [
    "# 라이브러리 설치\n",
    "!pip install selenium"
   ]
  },
  {
   "attachments": {},
   "cell_type": "markdown",
   "metadata": {},
   "source": [
    "### selenium 라이브러리\n",
    "1. 웹 어플리케이션을 테스트하기 위한 라이브러리\n",
    "2. python을 이용하여 웹 브라우저를 제어하는 기능 존재\n",
    "3. 웹 드라이버라는 별도의 프로그램의 설치 필요"
   ]
  },
  {
   "cell_type": "code",
   "execution_count": 2,
   "metadata": {},
   "outputs": [],
   "source": [
    "# 라이브버리 로드\n",
    "from selenium import webdriver"
   ]
  },
  {
   "cell_type": "code",
   "execution_count": 5,
   "metadata": {},
   "outputs": [],
   "source": [
    "# webdriver 파일의 위피 지정\n",
    "# 상대 경로\n",
    "path = '../chromedriver'\n",
    "# 절대 경로\n",
    "# path2 = 'C:\\Users\\ezen\\Desktop\\KMJ\\chromedriver'"
   ]
  },
  {
   "cell_type": "code",
   "execution_count": 7,
   "metadata": {},
   "outputs": [
    {
     "name": "stderr",
     "output_type": "stream",
     "text": [
      "C:\\Users\\ezen\\AppData\\Local\\Temp\\ipykernel_14328\\1273728924.py:1: DeprecationWarning: executable_path has been deprecated, please pass in a Service object\n",
      "  driver = webdriver.Chrome(path)\n"
     ]
    }
   ],
   "source": [
    "# 웹드라이버 실행\n",
    "driver = webdriver.Chrome(path)\n",
    "# 웹드리아버에 주소창을 입력\n",
    "driver.get('https://www.naver.com')"
   ]
  },
  {
   "cell_type": "code",
   "execution_count": 8,
   "metadata": {},
   "outputs": [],
   "source": [
    "from selenium.webdriver.common.by import By\n",
    "from selenium.webdriver.common.keys import Keys"
   ]
  },
  {
   "cell_type": "code",
   "execution_count": 9,
   "metadata": {},
   "outputs": [],
   "source": [
    "element = driver.find_element(By.ID, 'query')\n",
    "element.send_keys(\"하이디라오\")"
   ]
  },
  {
   "cell_type": "code",
   "execution_count": 10,
   "metadata": {},
   "outputs": [],
   "source": [
    "element.send_keys(Keys.ENTER)"
   ]
  },
  {
   "cell_type": "code",
   "execution_count": 11,
   "metadata": {},
   "outputs": [],
   "source": [
    "from bs4 import BeautifulSoup as bs"
   ]
  },
  {
   "cell_type": "code",
   "execution_count": 15,
   "metadata": {},
   "outputs": [],
   "source": [
    "soup = bs(driver.page_source, 'html.parser')"
   ]
  },
  {
   "cell_type": "code",
   "execution_count": 17,
   "metadata": {},
   "outputs": [
    {
     "data": {
      "text/plain": [
       "[<div class=\"title_area\"> <span class=\"etc\">'하이디라오' 관련</span> <strong class=\"title\">인기 주제 둘러보기</strong> </div>,\n",
       " <div class=\"title_area\"> <a class=\"title _intent_cross_collection_trigger\" data-cr-gdid=\"SYS-0000000001676173.a0209rl4_nblog_post_223029790026\" href=\"https://in.naver.com/mangdy/contents/internal/537431819490080?query=%ED%95%98%EC%9D%B4%EB%94%94%EB%9D%BC%EC%98%A4&amp;areacode=itb_bas%2Af_other\" onclick=\"goOtherCR(this, 'a=itb_bas*f.imgtitlelink&amp;r=15&amp;i=SYS-0000000001676173.a0209rl4_nblog_post_223029790026&amp;g=%7B%22bid%22%3A%22SYS-0000000001676173%22%2C%22docRank%22%3A1%7D&amp;u='+urlencode(this.href));\" target=\"_blank\">홍대 훠궈 맛집 <mark>하이디라오</mark> 주문 꿀팁 가격</a> </div>,\n",
       " <div class=\"title_area\"> <a class=\"title _intent_cross_collection_trigger\" data-cr-gdid=\"SYS-0000000014011252.90000003_0000000000000033DB8A664C\" href=\"https://blog.naver.com/qotlrud11/222726612556\" onclick=\"goOtherCR(this, 'a=itb_bas*b.imgtitlelink&amp;r=18&amp;i=SYS-0000000014011252.90000003_0000000000000033DB8A664C&amp;g=%7B%22bid%22%3A%22SYS-0000000014011252%22%2C%22docRank%22%3A1%7D&amp;u='+urlencode(this.href));\" target=\"_blank\"><mark>하이디라오</mark> 홍대 가격은 조금 비싸지만..</a> </div>,\n",
       " <div class=\"title_area\"> <a class=\"title _intent_cross_collection_trigger\" data-cr-gdid=\"SYS-0000000001676154.90000003_0000000000000033EB5C4FDC\" href=\"https://blog.naver.com/da01996/222992027612\" onclick=\"goOtherCR(this, 'a=itb_bas*b.imgtitlelink&amp;r=21&amp;i=SYS-0000000001676154.90000003_0000000000000033EB5C4FDC&amp;g=%7B%22bid%22%3A%22SYS-0000000001676154%22%2C%22docRank%22%3A1%7D&amp;u='+urlencode(this.href));\" target=\"_blank\">[신논현역/강남역] <mark>하이디라오</mark> / 메뉴+소스+웨이팅 팁!!</a> </div>]"
      ]
     },
     "execution_count": 17,
     "metadata": {},
     "output_type": "execute_result"
    }
   ],
   "source": [
    "div_list = soup.find_all('div', attrs={\n",
    "    'class' : 'title_area'\n",
    "})\n",
    "div_list"
   ]
  },
  {
   "cell_type": "code",
   "execution_count": 25,
   "metadata": {},
   "outputs": [
    {
     "data": {
      "text/plain": [
       "['홍대 훠궈 맛집 하이디라오 주문 꿀팁 가격',\n",
       " '하이디라오 홍대 가격은 조금 비싸지만..',\n",
       " '[신논현역/강남역] 하이디라오 / 메뉴+소스+웨이팅 팁!!']"
      ]
     },
     "execution_count": 25,
     "metadata": {},
     "output_type": "execute_result"
    }
   ],
   "source": [
    "# a 태그만 리스트의 형태로 출력\n",
    "a_list = []\n",
    "for i in div_list:\n",
    "    if i.find('a'):\n",
    "        # print(i.find('a').get_text())\n",
    "        a_list.append(i.find('a').get_text())\n",
    "\n",
    "a_list"
   ]
  },
  {
   "cell_type": "code",
   "execution_count": null,
   "metadata": {},
   "outputs": [],
   "source": [
    "# 함수 생성\n",
    "# 검색어를 매개변수로 받아와서\n",
    "# 웹드라이버에서 검색을 하고 결과를 리스트 형태로 리턴\n",
    "# 결과는 지식인의 타이틀을 리스트화 한 결과\n",
    "\n",
    "# 1. 함수 생성\n",
    "# 2. 웹드라이버에 검색어를 입력\n",
    "# 3. 웹드라이버에서 엔터키를 입력\n",
    "# 4. 페이지의 소스코드를 변수에 입력\n",
    "# 5. bs를 이용하여 html parsing\n",
    "# 6. parsing된 데이터에서 지식인 부분 출력\n",
    "# 7. a 태그 안에 text들을 리스트 형태로 저장\n",
    "# 8. text_list를 리턴"
   ]
  },
  {
   "cell_type": "code",
   "execution_count": 43,
   "metadata": {},
   "outputs": [],
   "source": [
    "import time"
   ]
  },
  {
   "cell_type": "code",
   "execution_count": 52,
   "metadata": {},
   "outputs": [],
   "source": [
    "def search_text(_search):\n",
    "    element = driver.find_element(By.ID, 'query')\n",
    "    element.send_keys(_search)\n",
    "    element.send_keys(Keys.ENTER)\n",
    "    # 딜레이 1초\n",
    "    time.sleep(1)\n",
    "    data = bs(driver.page_source, 'html.parser')\n",
    "    div_list = data.find_all('div', attrs={\n",
    "        'class' : 'question_group'\n",
    "    })\n",
    "    search_list = []\n",
    "    for i in div_list:\n",
    "        if i.find('a'):\n",
    "            search_list.append(i.find('a').get_text())\n",
    "    return search_list"
   ]
  },
  {
   "cell_type": "code",
   "execution_count": 53,
   "metadata": {},
   "outputs": [
    {
     "data": {
      "text/plain": [
       "['파이썬 파싱이 뮈에요? 파싱이 뭐죠? 예시도 보여주세요 ㅜㅜ',\n",
       " '프로그램 파싱이란 게 뭘까요?',\n",
       " '파싱 리튬 배터리 수리 가능한가요 파싱 FS-970N 배터리 물리적 충격으로 접합부쪽 뚜껑이 분리됐어요 ㅠㅠ 다시 닫아서 테이프로 감아봐도 안되던데, 수리가 가능한가요? 정식 수입 업체에서는 배터리 소모품이라 수리가 어렵다고해서 사설로 가능한지 알아보고싶은데 정보가 없네요 ..']"
      ]
     },
     "execution_count": 53,
     "metadata": {},
     "output_type": "execute_result"
    }
   ],
   "source": [
    "search_text('파싱')"
   ]
  },
  {
   "cell_type": "code",
   "execution_count": 60,
   "metadata": {},
   "outputs": [],
   "source": [
    "# 클래스 형태로 웹드라이버 제어\n",
    "\n",
    "# 클래스 선언\n",
    "class Web():\n",
    "    # 생성자 함수 생성\n",
    "    def __init__(self, _url, _input):\n",
    "        self.url = _url\n",
    "        self.input = _input\n",
    "    \n",
    "    # 검색을 하는 함수\n",
    "    def search(self, _search):\n",
    "        # 웹드라이버 실행\n",
    "        self.path = '../chromedriver'\n",
    "        self.driver = webdriver.Chrome(self.path)\n",
    "        # url 주소로 접속\n",
    "        self.driver.get(self.url)\n",
    "        # 딜레이\n",
    "        time.sleep(1)\n",
    "        # 검색란 지정\n",
    "        self.element = self.driver.find_element(By.ID, self.input)\n",
    "        # 검색어 입력\n",
    "        self.element.send_keys(_search)\n",
    "        # 엔터키 입력\n",
    "        self.element.send_keys(Keys.ENTER)\n",
    "        time.sleep(1)\n",
    "        # 해당 페이지의 html parsing 데이터\n",
    "        self.soup = bs(self.driver.page_source, 'html.parser')\n",
    "        # 지식인 부분의 html 태그를 저장\n",
    "        self.div_list = self.soup.find_all('div', attrs={\n",
    "            'class' : 'question_group'\n",
    "        })\n",
    "        # div_list에서 a 태그의 title text만 리스트의 형태로 출력\n",
    "        self.result = []\n",
    "        for i in self.div_list:\n",
    "            if i.find('a'):\n",
    "                self.result.append(i.find('a').get_text())\n",
    "        self.driver.close()\n",
    "        return self.result"
   ]
  },
  {
   "cell_type": "code",
   "execution_count": 61,
   "metadata": {},
   "outputs": [],
   "source": [
    "test = Web('https://www.naver.com', 'query')"
   ]
  },
  {
   "cell_type": "code",
   "execution_count": 62,
   "metadata": {},
   "outputs": [
    {
     "name": "stderr",
     "output_type": "stream",
     "text": [
      "C:\\Users\\ezen\\AppData\\Local\\Temp\\ipykernel_14328\\621695940.py:14: DeprecationWarning: executable_path has been deprecated, please pass in a Service object\n",
      "  self.driver = webdriver.Chrome(self.path)\n"
     ]
    },
    {
     "data": {
      "text/plain": [
       "['파이썬 파싱이 뮈에요? 파싱이 뭐죠? 예시도 보여주세요 ㅜㅜ',\n",
       " '프로그램 파싱이란 게 뭘까요?',\n",
       " '파싱 리튬 배터리 수리 가능한가요 파싱 FS-970N 배터리 물리적 충격으로 접합부쪽 뚜껑이 분리됐어요 ㅠㅠ 다시 닫아서 테이프로 감아봐도 안되던데, 수리가 가능한가요? 정식 수입 업체에서는 배터리 소모품이라 수리가 어렵다고해서 사설로 가능한지 알아보고싶은데 정보가 없네요 ..']"
      ]
     },
     "execution_count": 62,
     "metadata": {},
     "output_type": "execute_result"
    }
   ],
   "source": [
    "test.search('파싱')"
   ]
  }
 ],
 "metadata": {
  "kernelspec": {
   "display_name": "Python 3",
   "language": "python",
   "name": "python3"
  },
  "language_info": {
   "codemirror_mode": {
    "name": "ipython",
    "version": 3
   },
   "file_extension": ".py",
   "mimetype": "text/x-python",
   "name": "python",
   "nbconvert_exporter": "python",
   "pygments_lexer": "ipython3",
   "version": "3.11.1"
  },
  "orig_nbformat": 4
 },
 "nbformat": 4,
 "nbformat_minor": 2
}
